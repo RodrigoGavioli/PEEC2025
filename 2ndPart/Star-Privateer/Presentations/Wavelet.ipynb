{
 "cells": [
  {
   "cell_type": "code",
   "execution_count": 2,
   "metadata": {},
   "outputs": [],
   "source": [
    "import pandas as pd"
   ]
  },
  {
   "cell_type": "code",
   "execution_count": 15,
   "metadata": {},
   "outputs": [
    {
     "name": "stdout",
     "output_type": "stream",
     "text": [
      "                 Simulação Períodos      Valor  Incerteza\n",
      "0             OriginalData     P_PS   2.566737   0.455033\n",
      "1             OriginalData    P_ACF   2.615508  -1.000000\n",
      "2             OriginalData     P_CS   2.559111   0.291337\n",
      "3              InitialData     P_PS  11.712106   4.514671\n",
      "4              InitialData    P_ACF  12.666667  -1.000000\n",
      "5              InitialData     P_CS   6.600000   1.760675\n",
      "6                Alpha=0.1     P_PS  12.066862   3.488805\n",
      "7                Alpha=0.1    P_ACF  12.000000  -1.000000\n",
      "8                Alpha=0.1     P_CS  12.093369   1.260764\n",
      "9               Alpha=0.05     P_PS  11.569125   4.441838\n",
      "10              Alpha=0.05    P_ACF  12.000000  -1.000000\n",
      "11              Alpha=0.05     P_CS   6.060000   1.939939\n",
      "12   AreaEvolAmplitude=0.5     P_PS  12.054454   3.713195\n",
      "13   AreaEvolAmplitude=0.5    P_ACF  12.000000  -1.000000\n",
      "14   AreaEvolAmplitude=0.5     P_CS  12.120000   1.087996\n",
      "15   AreaEvolAmplitude=0.1     P_PS  11.712485   4.279960\n",
      "16   AreaEvolAmplitude=0.1    P_ACF  12.000000  -1.000000\n",
      "17   AreaEvolAmplitude=0.1     P_CS  12.013125   1.290192\n",
      "18  AreaEvolAmplitude=0.05     P_PS  12.165257   3.695887\n",
      "19  AreaEvolAmplitude=0.05    P_ACF  12.000000  -1.000000\n",
      "20  AreaEvolAmplitude=0.05     P_CS  12.120000   1.280527\n",
      "21    AreaEvolExponent=0.3     P_PS  12.082628   4.975299\n",
      "22    AreaEvolExponent=0.3    P_ACF  12.666667  -1.000000\n",
      "23    AreaEvolExponent=0.3     P_CS   6.600000   1.921323\n",
      "24               Alpha=0.5     P_PS  12.334408   4.473159\n",
      "25               Alpha=0.5    P_ACF  13.333333  -1.000000\n",
      "26               Alpha=0.5     P_CS   6.733333   2.057125\n"
     ]
    }
   ],
   "source": [
    "path = \"/home/rodrigogavioli/PEEC2025/2ndPart/Wavelet/Graphs/tabela_periodos.csv\"\n",
    "df = pd.read_csv(path)\n",
    "print(df)\n",
    "\n",
    "\n",
    "#Initial Data Alpha = 0.2 Area evol Amplitude = 0,17 Area evol Exponential = 0,47"
   ]
  },
  {
   "cell_type": "code",
   "execution_count": null,
   "metadata": {},
   "outputs": [],
   "source": []
  }
 ],
 "metadata": {
  "kernelspec": {
   "display_name": "meu_ambiente",
   "language": "python",
   "name": "python3"
  },
  "language_info": {
   "codemirror_mode": {
    "name": "ipython",
    "version": 3
   },
   "file_extension": ".py",
   "mimetype": "text/x-python",
   "name": "python",
   "nbconvert_exporter": "python",
   "pygments_lexer": "ipython3",
   "version": "3.12.3"
  }
 },
 "nbformat": 4,
 "nbformat_minor": 2
}
