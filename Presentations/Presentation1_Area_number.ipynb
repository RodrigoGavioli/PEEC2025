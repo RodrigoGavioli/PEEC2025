{
 "cells": [
  {
   "cell_type": "markdown",
   "id": "f840202b",
   "metadata": {},
   "source": [
    "## Changes in the Area and Number"
   ]
  },
  {
   "cell_type": "markdown",
   "id": "dbe0f71b",
   "metadata": {},
   "source": [
    "### Area\n",
    "\n",
    "The parameters related to area are:\n",
    "\n",
    "- \\(log(n)_area = [Tamanho, Dispersão] )\n",
    "- \\(area_evol = [Tempo de crescimento, Tamanho] )\n",
    "- \\(D_GW = Definido e corrigido)\n",
    "- \\(Amin = Seleciona o tamanho minimo das manchas a serem avaliadas)\n",
    "\n",
    "Acho que vamos alterar nos primeiro parametro, e talvez no segundo.\n"
   ]
  },
  {
   "cell_type": "markdown",
   "id": "4cd24e89",
   "metadata": {},
   "source": [
    "Initially they were:\n",
    "\n",
    "- \\(logn_area =[4., 1.] )\n",
    "- \\(area_evol = [0.17, 0.47])\n",
    "- \\(D_GW =15. )\n",
    "- \\(Amin = 0.5)\n",
    "\n",
    "In which gave us the following graphs:"
   ]
  },
  {
   "cell_type": "markdown",
   "id": "9672f4e0",
   "metadata": {},
   "source": [
    "![Light Curve](Initial_Data\\light_curve.png)\n",
    "\n"
   ]
  },
  {
   "cell_type": "markdown",
   "id": "b3397d67",
   "metadata": {},
   "source": [
    "![Ngroups,etc,etc](Initial_Data\\simul_plot.png)"
   ]
  },
  {
   "cell_type": "markdown",
   "id": "6f5a0abc",
   "metadata": {},
   "source": [
    "First we vary the following parameters:\n",
    "- \\(logn_area = [5., 1.] )\n"
   ]
  },
  {
   "cell_type": "markdown",
   "id": "9643d08f",
   "metadata": {},
   "source": [
    "Which generated the following light curve\n",
    ": ![Light Curve + Area ](Areachangelog51\\light_curvelogn[51].png)\n"
   ]
  },
  {
   "cell_type": "markdown",
   "id": "8b12eb1e",
   "metadata": {},
   "source": [
    "Which generated the following graphs\n",
    ": ![Light Curve + Area ](Areachangelog51\\simul_plotlogn[51].png)"
   ]
  },
  {
   "cell_type": "markdown",
   "id": "077c7878",
   "metadata": {},
   "source": [
    "We also vary for minus being the parameters now: \n",
    " \\(logn_area = [3., 1.] )\n"
   ]
  },
  {
   "cell_type": "markdown",
   "id": "f81e9eee",
   "metadata": {},
   "source": [
    "Which generated the following light curve\n",
    ": ![Light Curve - Area ](pathtolightcurve.png)"
   ]
  },
  {
   "cell_type": "markdown",
   "id": "b5335b01",
   "metadata": {},
   "source": [
    "We can see that \"....\""
   ]
  },
  {
   "cell_type": "markdown",
   "id": "5483a1b3",
   "metadata": {},
   "source": [
    "Also we can alter the following parameters:\n",
    " \\(logn_area = [5., 1.5] )\n"
   ]
  },
  {
   "cell_type": "markdown",
   "id": "b3570ca9",
   "metadata": {},
   "source": [
    "Which generated the following light curve\n",
    ": ![Light Curve + Area ](Areachangelog515\\light_curvelogn[5.,1.5].png)"
   ]
  },
  {
   "cell_type": "markdown",
   "id": "80d8ee20",
   "metadata": {},
   "source": [
    "Which generated the following graphs\n",
    ": ![Light Curve + Area ](Areachangelog515\\simul_plotlogn[5.,1.5].png)"
   ]
  },
  {
   "cell_type": "markdown",
   "id": "d3b6ebce",
   "metadata": {},
   "source": [
    " \\(logn_area = [3., 1.5] )\n"
   ]
  },
  {
   "cell_type": "markdown",
   "id": "17fb6849",
   "metadata": {},
   "source": [
    "Which generated the following light curve\n",
    ": ![Light Curve - Area ](pathtolightcurve.png)"
   ]
  },
  {
   "cell_type": "markdown",
   "id": "897302b0",
   "metadata": {},
   "source": [
    "We can see \"that...\" : "
   ]
  },
  {
   "cell_type": "markdown",
   "id": "28a193b9",
   "metadata": {},
   "source": [
    "Also the parameters related to the number of groups are: \n",
    "- \\(nspot =[Amplitude, quantidade de manchas, tempoinicial, A duração das manchas no ciclo,   ])"
   ]
  },
  {
   "cell_type": "markdown",
   "id": "293818bf",
   "metadata": {},
   "source": [
    "The initial parameters were:\n",
    "- nspots[0] = 0.26/10/cad\n",
    "\n",
    "We altered it to: \n",
    "- nspots[0] = 0.1/10/cad\n",
    "- nspots[0] = 0.5/10/cad\n"
   ]
  },
  {
   "cell_type": "markdown",
   "id": "f3a07ede",
   "metadata": {},
   "source": [
    "Which generated the following graphs:\n",
    ": ![Light Curve - 0.1 ](NumberchangeNs1\\light_curveNs1.png)\n",
    ": ![Light Curve - 0.5 ](NumberchangeNs5\\light_curveNs5.png)\n",
    "\n",
    ": ![Simulplots - 0.1 ](NumberchangeNs1\\simul_plotsNs1.png)\n",
    ": ![Simulplots - 0.5 ](NumberchangeNs5\\simul_plotsNs5.png)"
   ]
  },
  {
   "cell_type": "markdown",
   "id": "977e2f4a",
   "metadata": {},
   "source": [
    "We can see that:\n",
    "for smaller amplitudes, the light curve is more stable with small variations, the opposite occur for bigger amplitudes"
   ]
  },
  {
   "cell_type": "markdown",
   "id": "ba7c0051",
   "metadata": {},
   "source": [
    "And we also did for both changes in area and in number of spots:\n",
    "\n",
    "first:\n",
    "\n",
    "- nspots[0] = 0.1/10/cad\n",
    "\n",
    "second: \n",
    "\n"
   ]
  },
  {
   "cell_type": "markdown",
   "id": "f4e2c96f",
   "metadata": {},
   "source": []
  }
 ],
 "metadata": {
  "kernelspec": {
   "display_name": "Python 3",
   "language": "python",
   "name": "python3"
  },
  "language_info": {
   "codemirror_mode": {
    "name": "ipython",
    "version": 3
   },
   "file_extension": ".py",
   "mimetype": "text/x-python",
   "name": "python",
   "nbconvert_exporter": "python",
   "pygments_lexer": "ipython3",
   "version": "3.12.5"
  }
 },
 "nbformat": 4,
 "nbformat_minor": 5
}
